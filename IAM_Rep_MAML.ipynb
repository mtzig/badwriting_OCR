{
  "nbformat": 4,
  "nbformat_minor": 0,
  "metadata": {
    "colab": {
      "provenance": [],
      "authorship_tag": "ABX9TyN2CK6CvP22nMUMkPSJ2UG7",
      "include_colab_link": true
    },
    "kernelspec": {
      "name": "python3",
      "display_name": "Python 3"
    },
    "language_info": {
      "name": "python"
    },
    "widgets": {
      "application/vnd.jupyter.widget-state+json": {
        "3322cd7acb0648f0ade352ebdb9605ce": {
          "model_module": "@jupyter-widgets/controls",
          "model_name": "HBoxModel",
          "model_module_version": "1.5.0",
          "state": {
            "_dom_classes": [],
            "_model_module": "@jupyter-widgets/controls",
            "_model_module_version": "1.5.0",
            "_model_name": "HBoxModel",
            "_view_count": null,
            "_view_module": "@jupyter-widgets/controls",
            "_view_module_version": "1.5.0",
            "_view_name": "HBoxView",
            "box_style": "",
            "children": [
              "IPY_MODEL_5b8f8d8fc0b44206b03757ca8edfc5d8",
              "IPY_MODEL_9c0f710322b54019a5d922a04a9931d0",
              "IPY_MODEL_c005663a06504eaca37c0fb95e8c94a0"
            ],
            "layout": "IPY_MODEL_04c5c541ddc54662ab5260014a026ee5"
          }
        },
        "5b8f8d8fc0b44206b03757ca8edfc5d8": {
          "model_module": "@jupyter-widgets/controls",
          "model_name": "HTMLModel",
          "model_module_version": "1.5.0",
          "state": {
            "_dom_classes": [],
            "_model_module": "@jupyter-widgets/controls",
            "_model_module_version": "1.5.0",
            "_model_name": "HTMLModel",
            "_view_count": null,
            "_view_module": "@jupyter-widgets/controls",
            "_view_module_version": "1.5.0",
            "_view_name": "HTMLView",
            "description": "",
            "description_tooltip": null,
            "layout": "IPY_MODEL_f023490eabee419bbb3170539f9ff4f5",
            "placeholder": "​",
            "style": "IPY_MODEL_548f938e6cfd403d864a89770ce37903",
            "value": "config.json: 100%"
          }
        },
        "9c0f710322b54019a5d922a04a9931d0": {
          "model_module": "@jupyter-widgets/controls",
          "model_name": "FloatProgressModel",
          "model_module_version": "1.5.0",
          "state": {
            "_dom_classes": [],
            "_model_module": "@jupyter-widgets/controls",
            "_model_module_version": "1.5.0",
            "_model_name": "FloatProgressModel",
            "_view_count": null,
            "_view_module": "@jupyter-widgets/controls",
            "_view_module_version": "1.5.0",
            "_view_name": "ProgressView",
            "bar_style": "success",
            "description": "",
            "description_tooltip": null,
            "layout": "IPY_MODEL_015c8c647cf4464893a205757a9dd0e9",
            "max": 4211,
            "min": 0,
            "orientation": "horizontal",
            "style": "IPY_MODEL_f317acf830ef4e62a92c5189b7a66a8f",
            "value": 4211
          }
        },
        "c005663a06504eaca37c0fb95e8c94a0": {
          "model_module": "@jupyter-widgets/controls",
          "model_name": "HTMLModel",
          "model_module_version": "1.5.0",
          "state": {
            "_dom_classes": [],
            "_model_module": "@jupyter-widgets/controls",
            "_model_module_version": "1.5.0",
            "_model_name": "HTMLModel",
            "_view_count": null,
            "_view_module": "@jupyter-widgets/controls",
            "_view_module_version": "1.5.0",
            "_view_name": "HTMLView",
            "description": "",
            "description_tooltip": null,
            "layout": "IPY_MODEL_81680cc309334976b329364a076e7ea1",
            "placeholder": "​",
            "style": "IPY_MODEL_a9b58e4d0fca413c974475e8c5e831d2",
            "value": " 4.21k/4.21k [00:00&lt;00:00, 261kB/s]"
          }
        },
        "04c5c541ddc54662ab5260014a026ee5": {
          "model_module": "@jupyter-widgets/base",
          "model_name": "LayoutModel",
          "model_module_version": "1.2.0",
          "state": {
            "_model_module": "@jupyter-widgets/base",
            "_model_module_version": "1.2.0",
            "_model_name": "LayoutModel",
            "_view_count": null,
            "_view_module": "@jupyter-widgets/base",
            "_view_module_version": "1.2.0",
            "_view_name": "LayoutView",
            "align_content": null,
            "align_items": null,
            "align_self": null,
            "border": null,
            "bottom": null,
            "display": null,
            "flex": null,
            "flex_flow": null,
            "grid_area": null,
            "grid_auto_columns": null,
            "grid_auto_flow": null,
            "grid_auto_rows": null,
            "grid_column": null,
            "grid_gap": null,
            "grid_row": null,
            "grid_template_areas": null,
            "grid_template_columns": null,
            "grid_template_rows": null,
            "height": null,
            "justify_content": null,
            "justify_items": null,
            "left": null,
            "margin": null,
            "max_height": null,
            "max_width": null,
            "min_height": null,
            "min_width": null,
            "object_fit": null,
            "object_position": null,
            "order": null,
            "overflow": null,
            "overflow_x": null,
            "overflow_y": null,
            "padding": null,
            "right": null,
            "top": null,
            "visibility": null,
            "width": null
          }
        },
        "f023490eabee419bbb3170539f9ff4f5": {
          "model_module": "@jupyter-widgets/base",
          "model_name": "LayoutModel",
          "model_module_version": "1.2.0",
          "state": {
            "_model_module": "@jupyter-widgets/base",
            "_model_module_version": "1.2.0",
            "_model_name": "LayoutModel",
            "_view_count": null,
            "_view_module": "@jupyter-widgets/base",
            "_view_module_version": "1.2.0",
            "_view_name": "LayoutView",
            "align_content": null,
            "align_items": null,
            "align_self": null,
            "border": null,
            "bottom": null,
            "display": null,
            "flex": null,
            "flex_flow": null,
            "grid_area": null,
            "grid_auto_columns": null,
            "grid_auto_flow": null,
            "grid_auto_rows": null,
            "grid_column": null,
            "grid_gap": null,
            "grid_row": null,
            "grid_template_areas": null,
            "grid_template_columns": null,
            "grid_template_rows": null,
            "height": null,
            "justify_content": null,
            "justify_items": null,
            "left": null,
            "margin": null,
            "max_height": null,
            "max_width": null,
            "min_height": null,
            "min_width": null,
            "object_fit": null,
            "object_position": null,
            "order": null,
            "overflow": null,
            "overflow_x": null,
            "overflow_y": null,
            "padding": null,
            "right": null,
            "top": null,
            "visibility": null,
            "width": null
          }
        },
        "548f938e6cfd403d864a89770ce37903": {
          "model_module": "@jupyter-widgets/controls",
          "model_name": "DescriptionStyleModel",
          "model_module_version": "1.5.0",
          "state": {
            "_model_module": "@jupyter-widgets/controls",
            "_model_module_version": "1.5.0",
            "_model_name": "DescriptionStyleModel",
            "_view_count": null,
            "_view_module": "@jupyter-widgets/base",
            "_view_module_version": "1.2.0",
            "_view_name": "StyleView",
            "description_width": ""
          }
        },
        "015c8c647cf4464893a205757a9dd0e9": {
          "model_module": "@jupyter-widgets/base",
          "model_name": "LayoutModel",
          "model_module_version": "1.2.0",
          "state": {
            "_model_module": "@jupyter-widgets/base",
            "_model_module_version": "1.2.0",
            "_model_name": "LayoutModel",
            "_view_count": null,
            "_view_module": "@jupyter-widgets/base",
            "_view_module_version": "1.2.0",
            "_view_name": "LayoutView",
            "align_content": null,
            "align_items": null,
            "align_self": null,
            "border": null,
            "bottom": null,
            "display": null,
            "flex": null,
            "flex_flow": null,
            "grid_area": null,
            "grid_auto_columns": null,
            "grid_auto_flow": null,
            "grid_auto_rows": null,
            "grid_column": null,
            "grid_gap": null,
            "grid_row": null,
            "grid_template_areas": null,
            "grid_template_columns": null,
            "grid_template_rows": null,
            "height": null,
            "justify_content": null,
            "justify_items": null,
            "left": null,
            "margin": null,
            "max_height": null,
            "max_width": null,
            "min_height": null,
            "min_width": null,
            "object_fit": null,
            "object_position": null,
            "order": null,
            "overflow": null,
            "overflow_x": null,
            "overflow_y": null,
            "padding": null,
            "right": null,
            "top": null,
            "visibility": null,
            "width": null
          }
        },
        "f317acf830ef4e62a92c5189b7a66a8f": {
          "model_module": "@jupyter-widgets/controls",
          "model_name": "ProgressStyleModel",
          "model_module_version": "1.5.0",
          "state": {
            "_model_module": "@jupyter-widgets/controls",
            "_model_module_version": "1.5.0",
            "_model_name": "ProgressStyleModel",
            "_view_count": null,
            "_view_module": "@jupyter-widgets/base",
            "_view_module_version": "1.2.0",
            "_view_name": "StyleView",
            "bar_color": null,
            "description_width": ""
          }
        },
        "81680cc309334976b329364a076e7ea1": {
          "model_module": "@jupyter-widgets/base",
          "model_name": "LayoutModel",
          "model_module_version": "1.2.0",
          "state": {
            "_model_module": "@jupyter-widgets/base",
            "_model_module_version": "1.2.0",
            "_model_name": "LayoutModel",
            "_view_count": null,
            "_view_module": "@jupyter-widgets/base",
            "_view_module_version": "1.2.0",
            "_view_name": "LayoutView",
            "align_content": null,
            "align_items": null,
            "align_self": null,
            "border": null,
            "bottom": null,
            "display": null,
            "flex": null,
            "flex_flow": null,
            "grid_area": null,
            "grid_auto_columns": null,
            "grid_auto_flow": null,
            "grid_auto_rows": null,
            "grid_column": null,
            "grid_gap": null,
            "grid_row": null,
            "grid_template_areas": null,
            "grid_template_columns": null,
            "grid_template_rows": null,
            "height": null,
            "justify_content": null,
            "justify_items": null,
            "left": null,
            "margin": null,
            "max_height": null,
            "max_width": null,
            "min_height": null,
            "min_width": null,
            "object_fit": null,
            "object_position": null,
            "order": null,
            "overflow": null,
            "overflow_x": null,
            "overflow_y": null,
            "padding": null,
            "right": null,
            "top": null,
            "visibility": null,
            "width": null
          }
        },
        "a9b58e4d0fca413c974475e8c5e831d2": {
          "model_module": "@jupyter-widgets/controls",
          "model_name": "DescriptionStyleModel",
          "model_module_version": "1.5.0",
          "state": {
            "_model_module": "@jupyter-widgets/controls",
            "_model_module_version": "1.5.0",
            "_model_name": "DescriptionStyleModel",
            "_view_count": null,
            "_view_module": "@jupyter-widgets/base",
            "_view_module_version": "1.2.0",
            "_view_name": "StyleView",
            "description_width": ""
          }
        },
        "1c4fff06ec9a4b3086996322c66eb8d5": {
          "model_module": "@jupyter-widgets/controls",
          "model_name": "HBoxModel",
          "model_module_version": "1.5.0",
          "state": {
            "_dom_classes": [],
            "_model_module": "@jupyter-widgets/controls",
            "_model_module_version": "1.5.0",
            "_model_name": "HBoxModel",
            "_view_count": null,
            "_view_module": "@jupyter-widgets/controls",
            "_view_module_version": "1.5.0",
            "_view_name": "HBoxView",
            "box_style": "",
            "children": [
              "IPY_MODEL_d50b027deeb0463ba45dd029c0f80c94",
              "IPY_MODEL_2fe1cbf790b34d80a5c1c2160ee6fe96",
              "IPY_MODEL_74ca5945b7904bb79ec78e67a63472e8"
            ],
            "layout": "IPY_MODEL_c79e999804774391adfb149880a4ec9e"
          }
        },
        "d50b027deeb0463ba45dd029c0f80c94": {
          "model_module": "@jupyter-widgets/controls",
          "model_name": "HTMLModel",
          "model_module_version": "1.5.0",
          "state": {
            "_dom_classes": [],
            "_model_module": "@jupyter-widgets/controls",
            "_model_module_version": "1.5.0",
            "_model_name": "HTMLModel",
            "_view_count": null,
            "_view_module": "@jupyter-widgets/controls",
            "_view_module_version": "1.5.0",
            "_view_name": "HTMLView",
            "description": "",
            "description_tooltip": null,
            "layout": "IPY_MODEL_d67f904752fb40119e318ea0005b38d5",
            "placeholder": "​",
            "style": "IPY_MODEL_f226323e9943474b8bb0d7a02fa31920",
            "value": "pytorch_model.bin: 100%"
          }
        },
        "2fe1cbf790b34d80a5c1c2160ee6fe96": {
          "model_module": "@jupyter-widgets/controls",
          "model_name": "FloatProgressModel",
          "model_module_version": "1.5.0",
          "state": {
            "_dom_classes": [],
            "_model_module": "@jupyter-widgets/controls",
            "_model_module_version": "1.5.0",
            "_model_name": "FloatProgressModel",
            "_view_count": null,
            "_view_module": "@jupyter-widgets/controls",
            "_view_module_version": "1.5.0",
            "_view_name": "ProgressView",
            "bar_style": "success",
            "description": "",
            "description_tooltip": null,
            "layout": "IPY_MODEL_88368b17a29a4e4eb15a758a6866bde1",
            "max": 245933041,
            "min": 0,
            "orientation": "horizontal",
            "style": "IPY_MODEL_fc7019c1a7ff42ae8d8bb721f7a64a57",
            "value": 245933041
          }
        },
        "74ca5945b7904bb79ec78e67a63472e8": {
          "model_module": "@jupyter-widgets/controls",
          "model_name": "HTMLModel",
          "model_module_version": "1.5.0",
          "state": {
            "_dom_classes": [],
            "_model_module": "@jupyter-widgets/controls",
            "_model_module_version": "1.5.0",
            "_model_name": "HTMLModel",
            "_view_count": null,
            "_view_module": "@jupyter-widgets/controls",
            "_view_module_version": "1.5.0",
            "_view_name": "HTMLView",
            "description": "",
            "description_tooltip": null,
            "layout": "IPY_MODEL_6f666a700cf74cb993742a999c477efc",
            "placeholder": "​",
            "style": "IPY_MODEL_10e64e8ba38141a69ea076ef884b1094",
            "value": " 246M/246M [00:02&lt;00:00, 117MB/s]"
          }
        },
        "c79e999804774391adfb149880a4ec9e": {
          "model_module": "@jupyter-widgets/base",
          "model_name": "LayoutModel",
          "model_module_version": "1.2.0",
          "state": {
            "_model_module": "@jupyter-widgets/base",
            "_model_module_version": "1.2.0",
            "_model_name": "LayoutModel",
            "_view_count": null,
            "_view_module": "@jupyter-widgets/base",
            "_view_module_version": "1.2.0",
            "_view_name": "LayoutView",
            "align_content": null,
            "align_items": null,
            "align_self": null,
            "border": null,
            "bottom": null,
            "display": null,
            "flex": null,
            "flex_flow": null,
            "grid_area": null,
            "grid_auto_columns": null,
            "grid_auto_flow": null,
            "grid_auto_rows": null,
            "grid_column": null,
            "grid_gap": null,
            "grid_row": null,
            "grid_template_areas": null,
            "grid_template_columns": null,
            "grid_template_rows": null,
            "height": null,
            "justify_content": null,
            "justify_items": null,
            "left": null,
            "margin": null,
            "max_height": null,
            "max_width": null,
            "min_height": null,
            "min_width": null,
            "object_fit": null,
            "object_position": null,
            "order": null,
            "overflow": null,
            "overflow_x": null,
            "overflow_y": null,
            "padding": null,
            "right": null,
            "top": null,
            "visibility": null,
            "width": null
          }
        },
        "d67f904752fb40119e318ea0005b38d5": {
          "model_module": "@jupyter-widgets/base",
          "model_name": "LayoutModel",
          "model_module_version": "1.2.0",
          "state": {
            "_model_module": "@jupyter-widgets/base",
            "_model_module_version": "1.2.0",
            "_model_name": "LayoutModel",
            "_view_count": null,
            "_view_module": "@jupyter-widgets/base",
            "_view_module_version": "1.2.0",
            "_view_name": "LayoutView",
            "align_content": null,
            "align_items": null,
            "align_self": null,
            "border": null,
            "bottom": null,
            "display": null,
            "flex": null,
            "flex_flow": null,
            "grid_area": null,
            "grid_auto_columns": null,
            "grid_auto_flow": null,
            "grid_auto_rows": null,
            "grid_column": null,
            "grid_gap": null,
            "grid_row": null,
            "grid_template_areas": null,
            "grid_template_columns": null,
            "grid_template_rows": null,
            "height": null,
            "justify_content": null,
            "justify_items": null,
            "left": null,
            "margin": null,
            "max_height": null,
            "max_width": null,
            "min_height": null,
            "min_width": null,
            "object_fit": null,
            "object_position": null,
            "order": null,
            "overflow": null,
            "overflow_x": null,
            "overflow_y": null,
            "padding": null,
            "right": null,
            "top": null,
            "visibility": null,
            "width": null
          }
        },
        "f226323e9943474b8bb0d7a02fa31920": {
          "model_module": "@jupyter-widgets/controls",
          "model_name": "DescriptionStyleModel",
          "model_module_version": "1.5.0",
          "state": {
            "_model_module": "@jupyter-widgets/controls",
            "_model_module_version": "1.5.0",
            "_model_name": "DescriptionStyleModel",
            "_view_count": null,
            "_view_module": "@jupyter-widgets/base",
            "_view_module_version": "1.2.0",
            "_view_name": "StyleView",
            "description_width": ""
          }
        },
        "88368b17a29a4e4eb15a758a6866bde1": {
          "model_module": "@jupyter-widgets/base",
          "model_name": "LayoutModel",
          "model_module_version": "1.2.0",
          "state": {
            "_model_module": "@jupyter-widgets/base",
            "_model_module_version": "1.2.0",
            "_model_name": "LayoutModel",
            "_view_count": null,
            "_view_module": "@jupyter-widgets/base",
            "_view_module_version": "1.2.0",
            "_view_name": "LayoutView",
            "align_content": null,
            "align_items": null,
            "align_self": null,
            "border": null,
            "bottom": null,
            "display": null,
            "flex": null,
            "flex_flow": null,
            "grid_area": null,
            "grid_auto_columns": null,
            "grid_auto_flow": null,
            "grid_auto_rows": null,
            "grid_column": null,
            "grid_gap": null,
            "grid_row": null,
            "grid_template_areas": null,
            "grid_template_columns": null,
            "grid_template_rows": null,
            "height": null,
            "justify_content": null,
            "justify_items": null,
            "left": null,
            "margin": null,
            "max_height": null,
            "max_width": null,
            "min_height": null,
            "min_width": null,
            "object_fit": null,
            "object_position": null,
            "order": null,
            "overflow": null,
            "overflow_x": null,
            "overflow_y": null,
            "padding": null,
            "right": null,
            "top": null,
            "visibility": null,
            "width": null
          }
        },
        "fc7019c1a7ff42ae8d8bb721f7a64a57": {
          "model_module": "@jupyter-widgets/controls",
          "model_name": "ProgressStyleModel",
          "model_module_version": "1.5.0",
          "state": {
            "_model_module": "@jupyter-widgets/controls",
            "_model_module_version": "1.5.0",
            "_model_name": "ProgressStyleModel",
            "_view_count": null,
            "_view_module": "@jupyter-widgets/base",
            "_view_module_version": "1.2.0",
            "_view_name": "StyleView",
            "bar_color": null,
            "description_width": ""
          }
        },
        "6f666a700cf74cb993742a999c477efc": {
          "model_module": "@jupyter-widgets/base",
          "model_name": "LayoutModel",
          "model_module_version": "1.2.0",
          "state": {
            "_model_module": "@jupyter-widgets/base",
            "_model_module_version": "1.2.0",
            "_model_name": "LayoutModel",
            "_view_count": null,
            "_view_module": "@jupyter-widgets/base",
            "_view_module_version": "1.2.0",
            "_view_name": "LayoutView",
            "align_content": null,
            "align_items": null,
            "align_self": null,
            "border": null,
            "bottom": null,
            "display": null,
            "flex": null,
            "flex_flow": null,
            "grid_area": null,
            "grid_auto_columns": null,
            "grid_auto_flow": null,
            "grid_auto_rows": null,
            "grid_column": null,
            "grid_gap": null,
            "grid_row": null,
            "grid_template_areas": null,
            "grid_template_columns": null,
            "grid_template_rows": null,
            "height": null,
            "justify_content": null,
            "justify_items": null,
            "left": null,
            "margin": null,
            "max_height": null,
            "max_width": null,
            "min_height": null,
            "min_width": null,
            "object_fit": null,
            "object_position": null,
            "order": null,
            "overflow": null,
            "overflow_x": null,
            "overflow_y": null,
            "padding": null,
            "right": null,
            "top": null,
            "visibility": null,
            "width": null
          }
        },
        "10e64e8ba38141a69ea076ef884b1094": {
          "model_module": "@jupyter-widgets/controls",
          "model_name": "DescriptionStyleModel",
          "model_module_version": "1.5.0",
          "state": {
            "_model_module": "@jupyter-widgets/controls",
            "_model_module_version": "1.5.0",
            "_model_name": "DescriptionStyleModel",
            "_view_count": null,
            "_view_module": "@jupyter-widgets/base",
            "_view_module_version": "1.2.0",
            "_view_name": "StyleView",
            "description_width": ""
          }
        },
        "c029260a07294cb7a1e22033caa2898b": {
          "model_module": "@jupyter-widgets/controls",
          "model_name": "HBoxModel",
          "model_module_version": "1.5.0",
          "state": {
            "_dom_classes": [],
            "_model_module": "@jupyter-widgets/controls",
            "_model_module_version": "1.5.0",
            "_model_name": "HBoxModel",
            "_view_count": null,
            "_view_module": "@jupyter-widgets/controls",
            "_view_module_version": "1.5.0",
            "_view_name": "HBoxView",
            "box_style": "",
            "children": [
              "IPY_MODEL_5d01c4dc227e4b17a99d2b0f3f495642",
              "IPY_MODEL_e829110991ac492d821e161b9034a2e4",
              "IPY_MODEL_bc22d086be67415a8c20717734b89702"
            ],
            "layout": "IPY_MODEL_20516e2d9cf948ddbac52fa58fbf4534"
          }
        },
        "5d01c4dc227e4b17a99d2b0f3f495642": {
          "model_module": "@jupyter-widgets/controls",
          "model_name": "HTMLModel",
          "model_module_version": "1.5.0",
          "state": {
            "_dom_classes": [],
            "_model_module": "@jupyter-widgets/controls",
            "_model_module_version": "1.5.0",
            "_model_name": "HTMLModel",
            "_view_count": null,
            "_view_module": "@jupyter-widgets/controls",
            "_view_module_version": "1.5.0",
            "_view_name": "HTMLView",
            "description": "",
            "description_tooltip": null,
            "layout": "IPY_MODEL_97210840ad834fa9833a18ecf8fee62e",
            "placeholder": "​",
            "style": "IPY_MODEL_3cc27a9431c44f808d5699643af3a968",
            "value": "generation_config.json: 100%"
          }
        },
        "e829110991ac492d821e161b9034a2e4": {
          "model_module": "@jupyter-widgets/controls",
          "model_name": "FloatProgressModel",
          "model_module_version": "1.5.0",
          "state": {
            "_dom_classes": [],
            "_model_module": "@jupyter-widgets/controls",
            "_model_module_version": "1.5.0",
            "_model_name": "FloatProgressModel",
            "_view_count": null,
            "_view_module": "@jupyter-widgets/controls",
            "_view_module_version": "1.5.0",
            "_view_name": "ProgressView",
            "bar_style": "success",
            "description": "",
            "description_tooltip": null,
            "layout": "IPY_MODEL_3fb2b4f456724b419d8e08dcdaa34d4e",
            "max": 190,
            "min": 0,
            "orientation": "horizontal",
            "style": "IPY_MODEL_38e5d57b3d13402ab415a9a087907c1c",
            "value": 190
          }
        },
        "bc22d086be67415a8c20717734b89702": {
          "model_module": "@jupyter-widgets/controls",
          "model_name": "HTMLModel",
          "model_module_version": "1.5.0",
          "state": {
            "_dom_classes": [],
            "_model_module": "@jupyter-widgets/controls",
            "_model_module_version": "1.5.0",
            "_model_name": "HTMLModel",
            "_view_count": null,
            "_view_module": "@jupyter-widgets/controls",
            "_view_module_version": "1.5.0",
            "_view_name": "HTMLView",
            "description": "",
            "description_tooltip": null,
            "layout": "IPY_MODEL_b79a8a37c3624b6599341fb2c94a6476",
            "placeholder": "​",
            "style": "IPY_MODEL_5bd4d82944db420db1328860760336e8",
            "value": " 190/190 [00:00&lt;00:00, 6.69kB/s]"
          }
        },
        "20516e2d9cf948ddbac52fa58fbf4534": {
          "model_module": "@jupyter-widgets/base",
          "model_name": "LayoutModel",
          "model_module_version": "1.2.0",
          "state": {
            "_model_module": "@jupyter-widgets/base",
            "_model_module_version": "1.2.0",
            "_model_name": "LayoutModel",
            "_view_count": null,
            "_view_module": "@jupyter-widgets/base",
            "_view_module_version": "1.2.0",
            "_view_name": "LayoutView",
            "align_content": null,
            "align_items": null,
            "align_self": null,
            "border": null,
            "bottom": null,
            "display": null,
            "flex": null,
            "flex_flow": null,
            "grid_area": null,
            "grid_auto_columns": null,
            "grid_auto_flow": null,
            "grid_auto_rows": null,
            "grid_column": null,
            "grid_gap": null,
            "grid_row": null,
            "grid_template_areas": null,
            "grid_template_columns": null,
            "grid_template_rows": null,
            "height": null,
            "justify_content": null,
            "justify_items": null,
            "left": null,
            "margin": null,
            "max_height": null,
            "max_width": null,
            "min_height": null,
            "min_width": null,
            "object_fit": null,
            "object_position": null,
            "order": null,
            "overflow": null,
            "overflow_x": null,
            "overflow_y": null,
            "padding": null,
            "right": null,
            "top": null,
            "visibility": null,
            "width": null
          }
        },
        "97210840ad834fa9833a18ecf8fee62e": {
          "model_module": "@jupyter-widgets/base",
          "model_name": "LayoutModel",
          "model_module_version": "1.2.0",
          "state": {
            "_model_module": "@jupyter-widgets/base",
            "_model_module_version": "1.2.0",
            "_model_name": "LayoutModel",
            "_view_count": null,
            "_view_module": "@jupyter-widgets/base",
            "_view_module_version": "1.2.0",
            "_view_name": "LayoutView",
            "align_content": null,
            "align_items": null,
            "align_self": null,
            "border": null,
            "bottom": null,
            "display": null,
            "flex": null,
            "flex_flow": null,
            "grid_area": null,
            "grid_auto_columns": null,
            "grid_auto_flow": null,
            "grid_auto_rows": null,
            "grid_column": null,
            "grid_gap": null,
            "grid_row": null,
            "grid_template_areas": null,
            "grid_template_columns": null,
            "grid_template_rows": null,
            "height": null,
            "justify_content": null,
            "justify_items": null,
            "left": null,
            "margin": null,
            "max_height": null,
            "max_width": null,
            "min_height": null,
            "min_width": null,
            "object_fit": null,
            "object_position": null,
            "order": null,
            "overflow": null,
            "overflow_x": null,
            "overflow_y": null,
            "padding": null,
            "right": null,
            "top": null,
            "visibility": null,
            "width": null
          }
        },
        "3cc27a9431c44f808d5699643af3a968": {
          "model_module": "@jupyter-widgets/controls",
          "model_name": "DescriptionStyleModel",
          "model_module_version": "1.5.0",
          "state": {
            "_model_module": "@jupyter-widgets/controls",
            "_model_module_version": "1.5.0",
            "_model_name": "DescriptionStyleModel",
            "_view_count": null,
            "_view_module": "@jupyter-widgets/base",
            "_view_module_version": "1.2.0",
            "_view_name": "StyleView",
            "description_width": ""
          }
        },
        "3fb2b4f456724b419d8e08dcdaa34d4e": {
          "model_module": "@jupyter-widgets/base",
          "model_name": "LayoutModel",
          "model_module_version": "1.2.0",
          "state": {
            "_model_module": "@jupyter-widgets/base",
            "_model_module_version": "1.2.0",
            "_model_name": "LayoutModel",
            "_view_count": null,
            "_view_module": "@jupyter-widgets/base",
            "_view_module_version": "1.2.0",
            "_view_name": "LayoutView",
            "align_content": null,
            "align_items": null,
            "align_self": null,
            "border": null,
            "bottom": null,
            "display": null,
            "flex": null,
            "flex_flow": null,
            "grid_area": null,
            "grid_auto_columns": null,
            "grid_auto_flow": null,
            "grid_auto_rows": null,
            "grid_column": null,
            "grid_gap": null,
            "grid_row": null,
            "grid_template_areas": null,
            "grid_template_columns": null,
            "grid_template_rows": null,
            "height": null,
            "justify_content": null,
            "justify_items": null,
            "left": null,
            "margin": null,
            "max_height": null,
            "max_width": null,
            "min_height": null,
            "min_width": null,
            "object_fit": null,
            "object_position": null,
            "order": null,
            "overflow": null,
            "overflow_x": null,
            "overflow_y": null,
            "padding": null,
            "right": null,
            "top": null,
            "visibility": null,
            "width": null
          }
        },
        "38e5d57b3d13402ab415a9a087907c1c": {
          "model_module": "@jupyter-widgets/controls",
          "model_name": "ProgressStyleModel",
          "model_module_version": "1.5.0",
          "state": {
            "_model_module": "@jupyter-widgets/controls",
            "_model_module_version": "1.5.0",
            "_model_name": "ProgressStyleModel",
            "_view_count": null,
            "_view_module": "@jupyter-widgets/base",
            "_view_module_version": "1.2.0",
            "_view_name": "StyleView",
            "bar_color": null,
            "description_width": ""
          }
        },
        "b79a8a37c3624b6599341fb2c94a6476": {
          "model_module": "@jupyter-widgets/base",
          "model_name": "LayoutModel",
          "model_module_version": "1.2.0",
          "state": {
            "_model_module": "@jupyter-widgets/base",
            "_model_module_version": "1.2.0",
            "_model_name": "LayoutModel",
            "_view_count": null,
            "_view_module": "@jupyter-widgets/base",
            "_view_module_version": "1.2.0",
            "_view_name": "LayoutView",
            "align_content": null,
            "align_items": null,
            "align_self": null,
            "border": null,
            "bottom": null,
            "display": null,
            "flex": null,
            "flex_flow": null,
            "grid_area": null,
            "grid_auto_columns": null,
            "grid_auto_flow": null,
            "grid_auto_rows": null,
            "grid_column": null,
            "grid_gap": null,
            "grid_row": null,
            "grid_template_areas": null,
            "grid_template_columns": null,
            "grid_template_rows": null,
            "height": null,
            "justify_content": null,
            "justify_items": null,
            "left": null,
            "margin": null,
            "max_height": null,
            "max_width": null,
            "min_height": null,
            "min_width": null,
            "object_fit": null,
            "object_position": null,
            "order": null,
            "overflow": null,
            "overflow_x": null,
            "overflow_y": null,
            "padding": null,
            "right": null,
            "top": null,
            "visibility": null,
            "width": null
          }
        },
        "5bd4d82944db420db1328860760336e8": {
          "model_module": "@jupyter-widgets/controls",
          "model_name": "DescriptionStyleModel",
          "model_module_version": "1.5.0",
          "state": {
            "_model_module": "@jupyter-widgets/controls",
            "_model_module_version": "1.5.0",
            "_model_name": "DescriptionStyleModel",
            "_view_count": null,
            "_view_module": "@jupyter-widgets/base",
            "_view_module_version": "1.2.0",
            "_view_name": "StyleView",
            "description_width": ""
          }
        },
        "a05c23e4fdf54df4983f860b478598fd": {
          "model_module": "@jupyter-widgets/controls",
          "model_name": "HBoxModel",
          "model_module_version": "1.5.0",
          "state": {
            "_dom_classes": [],
            "_model_module": "@jupyter-widgets/controls",
            "_model_module_version": "1.5.0",
            "_model_name": "HBoxModel",
            "_view_count": null,
            "_view_module": "@jupyter-widgets/controls",
            "_view_module_version": "1.5.0",
            "_view_name": "HBoxView",
            "box_style": "",
            "children": [
              "IPY_MODEL_0a5a4740ee4d4d4e9fced93783b56d06",
              "IPY_MODEL_1be48a09765a45bdbbe117f71d3debd0",
              "IPY_MODEL_cf99523dd25246338a10922c54f035a6"
            ],
            "layout": "IPY_MODEL_ffbdf9ec25e145838e55b6627fbba90d"
          }
        },
        "0a5a4740ee4d4d4e9fced93783b56d06": {
          "model_module": "@jupyter-widgets/controls",
          "model_name": "HTMLModel",
          "model_module_version": "1.5.0",
          "state": {
            "_dom_classes": [],
            "_model_module": "@jupyter-widgets/controls",
            "_model_module_version": "1.5.0",
            "_model_name": "HTMLModel",
            "_view_count": null,
            "_view_module": "@jupyter-widgets/controls",
            "_view_module_version": "1.5.0",
            "_view_name": "HTMLView",
            "description": "",
            "description_tooltip": null,
            "layout": "IPY_MODEL_2a6d05a0a2a042b3a44798aaec824f20",
            "placeholder": "​",
            "style": "IPY_MODEL_3a9b836641f74a91aa10c78537ad1bb6",
            "value": "100%"
          }
        },
        "1be48a09765a45bdbbe117f71d3debd0": {
          "model_module": "@jupyter-widgets/controls",
          "model_name": "FloatProgressModel",
          "model_module_version": "1.5.0",
          "state": {
            "_dom_classes": [],
            "_model_module": "@jupyter-widgets/controls",
            "_model_module_version": "1.5.0",
            "_model_name": "FloatProgressModel",
            "_view_count": null,
            "_view_module": "@jupyter-widgets/controls",
            "_view_module_version": "1.5.0",
            "_view_name": "ProgressView",
            "bar_style": "success",
            "description": "",
            "description_tooltip": null,
            "layout": "IPY_MODEL_a4860157403b4ba599412613472dd330",
            "max": 2,
            "min": 0,
            "orientation": "horizontal",
            "style": "IPY_MODEL_521b4f23f6d94583b7d4b89e01eacc3b",
            "value": 2
          }
        },
        "cf99523dd25246338a10922c54f035a6": {
          "model_module": "@jupyter-widgets/controls",
          "model_name": "HTMLModel",
          "model_module_version": "1.5.0",
          "state": {
            "_dom_classes": [],
            "_model_module": "@jupyter-widgets/controls",
            "_model_module_version": "1.5.0",
            "_model_name": "HTMLModel",
            "_view_count": null,
            "_view_module": "@jupyter-widgets/controls",
            "_view_module_version": "1.5.0",
            "_view_name": "HTMLView",
            "description": "",
            "description_tooltip": null,
            "layout": "IPY_MODEL_c40e89cb6444480eb028de605ec1ca46",
            "placeholder": "​",
            "style": "IPY_MODEL_1b2e2a7b49674f249b732f497af4e1e2",
            "value": " 2/2 [02:45&lt;00:00, 82.90s/it]"
          }
        },
        "ffbdf9ec25e145838e55b6627fbba90d": {
          "model_module": "@jupyter-widgets/base",
          "model_name": "LayoutModel",
          "model_module_version": "1.2.0",
          "state": {
            "_model_module": "@jupyter-widgets/base",
            "_model_module_version": "1.2.0",
            "_model_name": "LayoutModel",
            "_view_count": null,
            "_view_module": "@jupyter-widgets/base",
            "_view_module_version": "1.2.0",
            "_view_name": "LayoutView",
            "align_content": null,
            "align_items": null,
            "align_self": null,
            "border": null,
            "bottom": null,
            "display": null,
            "flex": null,
            "flex_flow": null,
            "grid_area": null,
            "grid_auto_columns": null,
            "grid_auto_flow": null,
            "grid_auto_rows": null,
            "grid_column": null,
            "grid_gap": null,
            "grid_row": null,
            "grid_template_areas": null,
            "grid_template_columns": null,
            "grid_template_rows": null,
            "height": null,
            "justify_content": null,
            "justify_items": null,
            "left": null,
            "margin": null,
            "max_height": null,
            "max_width": null,
            "min_height": null,
            "min_width": null,
            "object_fit": null,
            "object_position": null,
            "order": null,
            "overflow": null,
            "overflow_x": null,
            "overflow_y": null,
            "padding": null,
            "right": null,
            "top": null,
            "visibility": null,
            "width": null
          }
        },
        "2a6d05a0a2a042b3a44798aaec824f20": {
          "model_module": "@jupyter-widgets/base",
          "model_name": "LayoutModel",
          "model_module_version": "1.2.0",
          "state": {
            "_model_module": "@jupyter-widgets/base",
            "_model_module_version": "1.2.0",
            "_model_name": "LayoutModel",
            "_view_count": null,
            "_view_module": "@jupyter-widgets/base",
            "_view_module_version": "1.2.0",
            "_view_name": "LayoutView",
            "align_content": null,
            "align_items": null,
            "align_self": null,
            "border": null,
            "bottom": null,
            "display": null,
            "flex": null,
            "flex_flow": null,
            "grid_area": null,
            "grid_auto_columns": null,
            "grid_auto_flow": null,
            "grid_auto_rows": null,
            "grid_column": null,
            "grid_gap": null,
            "grid_row": null,
            "grid_template_areas": null,
            "grid_template_columns": null,
            "grid_template_rows": null,
            "height": null,
            "justify_content": null,
            "justify_items": null,
            "left": null,
            "margin": null,
            "max_height": null,
            "max_width": null,
            "min_height": null,
            "min_width": null,
            "object_fit": null,
            "object_position": null,
            "order": null,
            "overflow": null,
            "overflow_x": null,
            "overflow_y": null,
            "padding": null,
            "right": null,
            "top": null,
            "visibility": null,
            "width": null
          }
        },
        "3a9b836641f74a91aa10c78537ad1bb6": {
          "model_module": "@jupyter-widgets/controls",
          "model_name": "DescriptionStyleModel",
          "model_module_version": "1.5.0",
          "state": {
            "_model_module": "@jupyter-widgets/controls",
            "_model_module_version": "1.5.0",
            "_model_name": "DescriptionStyleModel",
            "_view_count": null,
            "_view_module": "@jupyter-widgets/base",
            "_view_module_version": "1.2.0",
            "_view_name": "StyleView",
            "description_width": ""
          }
        },
        "a4860157403b4ba599412613472dd330": {
          "model_module": "@jupyter-widgets/base",
          "model_name": "LayoutModel",
          "model_module_version": "1.2.0",
          "state": {
            "_model_module": "@jupyter-widgets/base",
            "_model_module_version": "1.2.0",
            "_model_name": "LayoutModel",
            "_view_count": null,
            "_view_module": "@jupyter-widgets/base",
            "_view_module_version": "1.2.0",
            "_view_name": "LayoutView",
            "align_content": null,
            "align_items": null,
            "align_self": null,
            "border": null,
            "bottom": null,
            "display": null,
            "flex": null,
            "flex_flow": null,
            "grid_area": null,
            "grid_auto_columns": null,
            "grid_auto_flow": null,
            "grid_auto_rows": null,
            "grid_column": null,
            "grid_gap": null,
            "grid_row": null,
            "grid_template_areas": null,
            "grid_template_columns": null,
            "grid_template_rows": null,
            "height": null,
            "justify_content": null,
            "justify_items": null,
            "left": null,
            "margin": null,
            "max_height": null,
            "max_width": null,
            "min_height": null,
            "min_width": null,
            "object_fit": null,
            "object_position": null,
            "order": null,
            "overflow": null,
            "overflow_x": null,
            "overflow_y": null,
            "padding": null,
            "right": null,
            "top": null,
            "visibility": null,
            "width": null
          }
        },
        "521b4f23f6d94583b7d4b89e01eacc3b": {
          "model_module": "@jupyter-widgets/controls",
          "model_name": "ProgressStyleModel",
          "model_module_version": "1.5.0",
          "state": {
            "_model_module": "@jupyter-widgets/controls",
            "_model_module_version": "1.5.0",
            "_model_name": "ProgressStyleModel",
            "_view_count": null,
            "_view_module": "@jupyter-widgets/base",
            "_view_module_version": "1.2.0",
            "_view_name": "StyleView",
            "bar_color": null,
            "description_width": ""
          }
        },
        "c40e89cb6444480eb028de605ec1ca46": {
          "model_module": "@jupyter-widgets/base",
          "model_name": "LayoutModel",
          "model_module_version": "1.2.0",
          "state": {
            "_model_module": "@jupyter-widgets/base",
            "_model_module_version": "1.2.0",
            "_model_name": "LayoutModel",
            "_view_count": null,
            "_view_module": "@jupyter-widgets/base",
            "_view_module_version": "1.2.0",
            "_view_name": "LayoutView",
            "align_content": null,
            "align_items": null,
            "align_self": null,
            "border": null,
            "bottom": null,
            "display": null,
            "flex": null,
            "flex_flow": null,
            "grid_area": null,
            "grid_auto_columns": null,
            "grid_auto_flow": null,
            "grid_auto_rows": null,
            "grid_column": null,
            "grid_gap": null,
            "grid_row": null,
            "grid_template_areas": null,
            "grid_template_columns": null,
            "grid_template_rows": null,
            "height": null,
            "justify_content": null,
            "justify_items": null,
            "left": null,
            "margin": null,
            "max_height": null,
            "max_width": null,
            "min_height": null,
            "min_width": null,
            "object_fit": null,
            "object_position": null,
            "order": null,
            "overflow": null,
            "overflow_x": null,
            "overflow_y": null,
            "padding": null,
            "right": null,
            "top": null,
            "visibility": null,
            "width": null
          }
        },
        "1b2e2a7b49674f249b732f497af4e1e2": {
          "model_module": "@jupyter-widgets/controls",
          "model_name": "DescriptionStyleModel",
          "model_module_version": "1.5.0",
          "state": {
            "_model_module": "@jupyter-widgets/controls",
            "_model_module_version": "1.5.0",
            "_model_name": "DescriptionStyleModel",
            "_view_count": null,
            "_view_module": "@jupyter-widgets/base",
            "_view_module_version": "1.2.0",
            "_view_name": "StyleView",
            "description_width": ""
          }
        }
      }
    }
  },
  "cells": [
    {
      "cell_type": "markdown",
      "metadata": {
        "id": "view-in-github",
        "colab_type": "text"
      },
      "source": [
        "<a href=\"https://colab.research.google.com/github/mtzig/badwriting_OCR/blob/main/IAM_Rep_MAML.ipynb\" target=\"_parent\"><img src=\"https://colab.research.google.com/assets/colab-badge.svg\" alt=\"Open In Colab\"/></a>"
      ]
    },
    {
      "cell_type": "code",
      "source": [
        "%load_ext autoreload\n",
        "%autoreload 2"
      ],
      "metadata": {
        "id": "J-nQNwn67PZi"
      },
      "execution_count": 1,
      "outputs": []
    },
    {
      "cell_type": "code",
      "execution_count": 2,
      "metadata": {
        "colab": {
          "base_uri": "https://localhost:8080/"
        },
        "id": "krhAOfUb7GV9",
        "outputId": "10c9dd3d-77c5-45ed-ce2d-d622d6d7cb16"
      },
      "outputs": [
        {
          "output_type": "stream",
          "name": "stdout",
          "text": [
            "Cloning into 'badwriting_OCR'...\n",
            "remote: Enumerating objects: 411, done.\u001b[K\n",
            "remote: Counting objects: 100% (219/219), done.\u001b[K\n",
            "remote: Compressing objects: 100% (155/155), done.\u001b[K\n",
            "remote: Total 411 (delta 97), reused 153 (delta 56), pack-reused 192\u001b[K\n",
            "Receiving objects: 100% (411/411), 9.12 MiB | 7.23 MiB/s, done.\n",
            "Resolving deltas: 100% (142/142), done.\n",
            "/content/badwriting_OCR/data/IAM/sentences\n",
            "--2024-04-14 19:10:49--  https://drive.usercontent.google.com/download?id=1cbek7vTRL0SdRnmEn0qnSYwsyn12_VfF&export=download&authuser=0&confirm=t&uuid=f5413559-a3d9-436a-a22b-f160b1a3923f&at=APZUnTVy-vPRskESFF-o6uxaFElL:1713119906072\n",
            "Resolving drive.usercontent.google.com (drive.usercontent.google.com)... 108.177.120.132, 2607:f8b0:4001:c18::84\n",
            "Connecting to drive.usercontent.google.com (drive.usercontent.google.com)|108.177.120.132|:443... connected.\n",
            "HTTP request sent, awaiting response... 200 OK\n",
            "Length: 686127431 (654M) [application/octet-stream]\n",
            "Saving to: ‘sentences.tgz’\n",
            "\n",
            "sentences.tgz       100%[===================>] 654.34M   170MB/s    in 4.4s    \n",
            "\n",
            "2024-04-14 19:10:54 (148 MB/s) - ‘sentences.tgz’ saved [686127431/686127431]\n",
            "\n",
            "/content/badwriting_OCR\n"
          ]
        }
      ],
      "source": [
        "!git clone https://github.com/mtzig/badwriting_OCR.git\n",
        "%cd /content/badwriting_OCR/data/IAM/sentences\n",
        "!wget --header=\"Host: drive.usercontent.google.com\" --header=\"User-Agent: Mozilla/5.0 (Macintosh; Intel Mac OS X 10_15_7) AppleWebKit/537.36 (KHTML, like Gecko) Chrome/123.0.0.0 Safari/537.36\" --header=\"Accept: text/html,application/xhtml+xml,application/xml;q=0.9,image/avif,image/webp,image/apng,*/*;q=0.8,application/signed-exchange;v=b3;q=0.7\" --header=\"Accept-Language: en-US,en;q=0.9,zh-CN;q=0.8,zh;q=0.7,ja-JP;q=0.6,ja;q=0.5,ko-KR;q=0.4,ko;q=0.3\" --header=\"Cookie: __Secure-ENID=17.SE=mcGRc0Iu0G3TlY6f8O8EWofnRWqjSBR9qJArVpPCJlaPWaONS5BkLHephvtUiDLB4jjiiDt2MZ0M58h6LP5kSm1_uARICHzkk2m5oRdcLv9sk5GTWbnO0rASB_sD7eVJDrlAPVg3BC-xw8iIoQ2XVqnV05bm3qGWlauPjxuVFt9IagzADHm7U2WLNSK1S8wTX7CZiwZho5M9rbxurKJ9eyLUo7A6fr4jyRRKB56pWHVAEH9wFXYlNHNfpZSn912TMUk0XOpdYqHdzhB98OU-zABNLx4a2HGuVuaDAa8; SEARCH_SAMESITE=CgQI75oB; AEC=AQTF6HzTg2hFKX0mupXasOqE_sseaD6FeCer3_UiwrA1t_-kUbcmwI4q0w; SID=g.a000igiqACQDY1MkraStc5VlP583hmC71JMPrnGX2Z2hWBDe_QpjzRohGQjzRPyxeNfIFOovUwACgYKARMSAQASFQHGX2MijiDx4D8Aj7_T9xbRuEuRuBoVAUF8yKo0Wtf9R5nQax68OiplRU650076; __Secure-1PSID=g.a000igiqACQDY1MkraStc5VlP583hmC71JMPrnGX2Z2hWBDe_QpjmJ3hQ67Gyp3UazMFbrhiCgACgYKASoSAQASFQHGX2MiE6lSXWqFmINQlY_ZrHXVmhoVAUF8yKo3Rmu0lZVmJVqXzI3BKZL00076; __Secure-3PSID=g.a000igiqACQDY1MkraStc5VlP583hmC71JMPrnGX2Z2hWBDe_Qpjq2hnj9y5ZSRmS9tnC_mkcgACgYKAY8SAQASFQHGX2MiQEnS3xc_cvlJLe2oO74OqBoVAUF8yKr_X3_6oUUhH-aApxct0zhY0076; HSID=AAVCpjQDyNSpisynl; SSID=A08oBLPUNCPzrnnlN; APISID=F6rebTv2EIKhGUNS/A-dParUYYgfQFKY7N; SAPISID=Yx-EkMW1VZudaYrJ/AIWzXOhDT_rlvy1n_; __Secure-1PAPISID=Yx-EkMW1VZudaYrJ/AIWzXOhDT_rlvy1n_; __Secure-3PAPISID=Yx-EkMW1VZudaYrJ/AIWzXOhDT_rlvy1n_; NID=513=ITVvI0D_uolXzogBUBHAltJDEfIf9klvKDpLl5WIocMVu6B-tVx7uuLWqktAbSzUEb-g-rmAGRpnngLo6I5jVV2DggAzIutgpQ_npCwP-9vlsdOqXrUeSE9_TGWjcY_ReqQRDh0lPAJlSRxxxUdJNTYB-qtlyR0BGquCkWcnklayWuIPLnEjOiZly1taL-ZrNkPbxU9PElnLsrR-50uEE3z4tuVS2raE_wkihURoc16YvcbJXt4-WuhGHfi6leIvnJoEwZlDpCdA2kx9U5zfck4gTlOgbdid7kBJH6lLgJ3DfCkrhihQBiPbhXEv7t-fcwkLW2wTSP1TFcsKPHhrwJ31Tuk1DxUZjnN0FEr0VR9q0n2VT0R_rFq5QIriyNxBXpmLOZK0WaNwFx2-60bcADw5p6R4CtjVk7RN7GgbQMkFEVi1uejleVT-H2OpcoQgY6DAtgFho9ZPirkVvO1NmvjkVU8jnTPimlw_l8zAvqFfN-aJADRRZSjehVntPVvWaBJNhIs5PLeacldL9RknQUzYGPtsjS3MxI8uef8rJSLfB6oidmBhsRj63LQI1T9D0kdJtxlnlsDPzKmCTkr_dQMvnn9Qgv-mw0THGc-GbAqw3_oipwMmdSHauQIAIRLXVoojdiMXoYheuWggZOEwVgPY5W4la3TxwzNR0itspcOCm4V0Dtt3RfbG3Rw-FcLRQfxfM9D8unAQNYvon_BSaA; __Secure-1PSIDTS=sidts-CjIB7F1E_L4uByM5wCDp3w-NEj3FjJ44hdxGoWKDikD1l0wWNor6e_cgN5c9qEC7HF6xnRAA; __Secure-3PSIDTS=sidts-CjIB7F1E_L4uByM5wCDp3w-NEj3FjJ44hdxGoWKDikD1l0wWNor6e_cgN5c9qEC7HF6xnRAA; SIDCC=AKEyXzVTs8-32zFjHmzR_FOZ66W_kJjtjuw8GD0qu_UvPOGrpU-Jteol38VbguGMqjagpQiIgQ; __Secure-1PSIDCC=AKEyXzUsbuAGPmzEj6s5lJ3voBhYY-BexG34M7WNF7Sn4wrZjA-_qryd0LQzFl3rgJxrqPXK; __Secure-3PSIDCC=AKEyXzXXzktzd6RaxAfXESIUaalcLVLcIYGN2VG6SMZDqOFHeCmmixEkXzPPD79aRSYkNGRVaaV4\" --header=\"Connection: keep-alive\" \"https://drive.usercontent.google.com/download?id=1cbek7vTRL0SdRnmEn0qnSYwsyn12_VfF&export=download&authuser=0&confirm=t&uuid=f5413559-a3d9-436a-a22b-f160b1a3923f&at=APZUnTVy-vPRskESFF-o6uxaFElL:1713119906072\" -c -O 'sentences.tgz'\n",
        "!tar -xf ./sentences.tgz\n",
        "%cd /content/badwriting_OCR/\n"
      ]
    },
    {
      "cell_type": "code",
      "source": [
        "!pip install -q transformers\n",
        "!pip install -q datasets jiwer"
      ],
      "metadata": {
        "colab": {
          "base_uri": "https://localhost:8080/"
        },
        "id": "evYOFSw07Jhn",
        "outputId": "1525b9ba-4c18-4b39-a7fa-b37de96f1d2a"
      },
      "execution_count": 3,
      "outputs": [
        {
          "output_type": "stream",
          "name": "stdout",
          "text": [
            "\u001b[2K     \u001b[90m━━━━━━━━━━━━━━━━━━━━━━━━━━━━━━━━━━━━━━━━\u001b[0m \u001b[32m510.5/510.5 kB\u001b[0m \u001b[31m3.2 MB/s\u001b[0m eta \u001b[36m0:00:00\u001b[0m\n",
            "\u001b[2K     \u001b[90m━━━━━━━━━━━━━━━━━━━━━━━━━━━━━━━━━━━━━━━━\u001b[0m \u001b[32m116.3/116.3 kB\u001b[0m \u001b[31m11.4 MB/s\u001b[0m eta \u001b[36m0:00:00\u001b[0m\n",
            "\u001b[2K     \u001b[90m━━━━━━━━━━━━━━━━━━━━━━━━━━━━━━━━━━━━━━━━\u001b[0m \u001b[32m194.1/194.1 kB\u001b[0m \u001b[31m15.0 MB/s\u001b[0m eta \u001b[36m0:00:00\u001b[0m\n",
            "\u001b[2K     \u001b[90m━━━━━━━━━━━━━━━━━━━━━━━━━━━━━━━━━━━━━━━━\u001b[0m \u001b[32m134.8/134.8 kB\u001b[0m \u001b[31m13.6 MB/s\u001b[0m eta \u001b[36m0:00:00\u001b[0m\n",
            "\u001b[2K     \u001b[90m━━━━━━━━━━━━━━━━━━━━━━━━━━━━━━━━━━━━━━━━\u001b[0m \u001b[32m3.4/3.4 MB\u001b[0m \u001b[31m26.9 MB/s\u001b[0m eta \u001b[36m0:00:00\u001b[0m\n",
            "\u001b[?25h"
          ]
        }
      ]
    },
    {
      "cell_type": "code",
      "source": [
        "from utils.model_utils import get_dataloaders, getModel"
      ],
      "metadata": {
        "id": "HsqxWJ7G8Nwb"
      },
      "execution_count": 9,
      "outputs": []
    },
    {
      "cell_type": "code",
      "source": [
        "global_train_dataloader, fewshot_train_dataloader, fewshot_val_dataloader, fewshot_test_dataloader = get_dataloaders(dataset_type='iam_fewshot', root='.', batch_size=8)"
      ],
      "metadata": {
        "id": "rJyueWB9AOOn"
      },
      "execution_count": 7,
      "outputs": []
    },
    {
      "cell_type": "code",
      "source": [
        "model = getModel(device='cpu')"
      ],
      "metadata": {
        "colab": {
          "base_uri": "https://localhost:8080/",
          "height": 168,
          "referenced_widgets": [
            "3322cd7acb0648f0ade352ebdb9605ce",
            "5b8f8d8fc0b44206b03757ca8edfc5d8",
            "9c0f710322b54019a5d922a04a9931d0",
            "c005663a06504eaca37c0fb95e8c94a0",
            "04c5c541ddc54662ab5260014a026ee5",
            "f023490eabee419bbb3170539f9ff4f5",
            "548f938e6cfd403d864a89770ce37903",
            "015c8c647cf4464893a205757a9dd0e9",
            "f317acf830ef4e62a92c5189b7a66a8f",
            "81680cc309334976b329364a076e7ea1",
            "a9b58e4d0fca413c974475e8c5e831d2",
            "1c4fff06ec9a4b3086996322c66eb8d5",
            "d50b027deeb0463ba45dd029c0f80c94",
            "2fe1cbf790b34d80a5c1c2160ee6fe96",
            "74ca5945b7904bb79ec78e67a63472e8",
            "c79e999804774391adfb149880a4ec9e",
            "d67f904752fb40119e318ea0005b38d5",
            "f226323e9943474b8bb0d7a02fa31920",
            "88368b17a29a4e4eb15a758a6866bde1",
            "fc7019c1a7ff42ae8d8bb721f7a64a57",
            "6f666a700cf74cb993742a999c477efc",
            "10e64e8ba38141a69ea076ef884b1094",
            "c029260a07294cb7a1e22033caa2898b",
            "5d01c4dc227e4b17a99d2b0f3f495642",
            "e829110991ac492d821e161b9034a2e4",
            "bc22d086be67415a8c20717734b89702",
            "20516e2d9cf948ddbac52fa58fbf4534",
            "97210840ad834fa9833a18ecf8fee62e",
            "3cc27a9431c44f808d5699643af3a968",
            "3fb2b4f456724b419d8e08dcdaa34d4e",
            "38e5d57b3d13402ab415a9a087907c1c",
            "b79a8a37c3624b6599341fb2c94a6476",
            "5bd4d82944db420db1328860760336e8"
          ]
        },
        "id": "J9MUelHsBsGo",
        "outputId": "6b094ed3-0c6b-4615-d545-63646db92a09"
      },
      "execution_count": 10,
      "outputs": [
        {
          "output_type": "display_data",
          "data": {
            "text/plain": [
              "config.json:   0%|          | 0.00/4.21k [00:00<?, ?B/s]"
            ],
            "application/vnd.jupyter.widget-view+json": {
              "version_major": 2,
              "version_minor": 0,
              "model_id": "3322cd7acb0648f0ade352ebdb9605ce"
            }
          },
          "metadata": {}
        },
        {
          "output_type": "display_data",
          "data": {
            "text/plain": [
              "pytorch_model.bin:   0%|          | 0.00/246M [00:00<?, ?B/s]"
            ],
            "application/vnd.jupyter.widget-view+json": {
              "version_major": 2,
              "version_minor": 0,
              "model_id": "1c4fff06ec9a4b3086996322c66eb8d5"
            }
          },
          "metadata": {}
        },
        {
          "output_type": "stream",
          "name": "stderr",
          "text": [
            "Some weights of VisionEncoderDecoderModel were not initialized from the model checkpoint at microsoft/trocr-small-handwritten and are newly initialized: ['encoder.pooler.dense.bias', 'encoder.pooler.dense.weight']\n",
            "You should probably TRAIN this model on a down-stream task to be able to use it for predictions and inference.\n"
          ]
        },
        {
          "output_type": "display_data",
          "data": {
            "text/plain": [
              "generation_config.json:   0%|          | 0.00/190 [00:00<?, ?B/s]"
            ],
            "application/vnd.jupyter.widget-view+json": {
              "version_major": 2,
              "version_minor": 0,
              "model_id": "c029260a07294cb7a1e22033caa2898b"
            }
          },
          "metadata": {}
        }
      ]
    },
    {
      "cell_type": "code",
      "source": [
        "q,s = next(iter(fewshot_train_dataloader))"
      ],
      "metadata": {
        "id": "qZ4425TTDDg6"
      },
      "execution_count": 12,
      "outputs": []
    },
    {
      "cell_type": "code",
      "source": [
        "len(fewshot_train_dataloader)"
      ],
      "metadata": {
        "colab": {
          "base_uri": "https://localhost:8080/"
        },
        "id": "IH8CwBncDQRD",
        "outputId": "f99e4b0f-0efe-4f25-8c3c-1db431318552"
      },
      "execution_count": 19,
      "outputs": [
        {
          "output_type": "execute_result",
          "data": {
            "text/plain": [
              "600"
            ]
          },
          "metadata": {},
          "execution_count": 19
        }
      ]
    },
    {
      "cell_type": "code",
      "source": [
        "len(s)"
      ],
      "metadata": {
        "colab": {
          "base_uri": "https://localhost:8080/"
        },
        "id": "xExK0EboDRPd",
        "outputId": "d2f70b3c-89aa-45bc-9545-7f209b8dce90"
      },
      "execution_count": 18,
      "outputs": [
        {
          "output_type": "execute_result",
          "data": {
            "text/plain": [
              "2"
            ]
          },
          "metadata": {},
          "execution_count": 18
        }
      ]
    },
    {
      "cell_type": "code",
      "source": [
        "q['labels'].shape"
      ],
      "metadata": {
        "colab": {
          "base_uri": "https://localhost:8080/"
        },
        "id": "ffXmOxFNDJdH",
        "outputId": "b9f56be0-8924-4cff-f4df-1947ce282c25"
      },
      "execution_count": 25,
      "outputs": [
        {
          "output_type": "execute_result",
          "data": {
            "text/plain": [
              "torch.Size([1, 5, 128])"
            ]
          },
          "metadata": {},
          "execution_count": 25
        }
      ]
    },
    {
      "cell_type": "code",
      "source": [
        "from copy import deepcopy\n",
        "from transformers import AdamW\n",
        "from tqdm.notebook import tqdm\n",
        "import torch\n",
        "\n",
        "def inf_iterator(iterable):\n",
        "    iterator = iterable.__iter__()\n",
        "    while True:\n",
        "        try:\n",
        "            yield iterator.__next__()\n",
        "        except StopIteration:\n",
        "            iterator = iterable.__iter__()\n",
        "\n",
        "def inner_optimization(model, batch, inner_iters, inner_lr=5e-5, device='cuda'):\n",
        "  inner_model =  deepcopy(model)\n",
        "  inner_model.to(device)\n",
        "  inner_optimizer = AdamW(inner_model.parameters(), lr=inner_lr)\n",
        "\n",
        "  inner_model.train()\n",
        "\n",
        "  supports, query = batch\n",
        "\n",
        "  for k in supports:\n",
        "      supports[k] = supports[k].to(model.device).squeeze(0)\n",
        "      query[k] = query[k].to(model.device).squeeze(0)\n",
        "\n",
        "  for _ in range(inner_iters):\n",
        "\n",
        "     loss = inner_model(**supports).loss\n",
        "     loss.backward()\n",
        "     inner_optimizer.step()\n",
        "     inner_optimizer.zero_grad()\n",
        "\n",
        "  grads = [o-i.to('cpu') for (o,i) in zip(model.parameters(), inner_model.parameters())]\n",
        "  del inner_model\n",
        "  return grads\n",
        "\n",
        "\n",
        "def outer_optimization(model, dataloader, outer_iters,  inner_iters, outer_lr=5e-5, inner_lr=5e-5, device='cpu'):\n",
        "  data_iter = inf_iterator(dataloader)\n",
        "  outer_optimizer = AdamW(model.parameters(), lr=outer_lr)\n",
        "\n",
        "  for _ in tqdm(range(outer_iters)):\n",
        "\n",
        "    grads = None\n",
        "\n",
        "    for _ in range(2):#range(len(dataloader)):\n",
        "      batch = next(data_iter)\n",
        "\n",
        "      if grads is None:\n",
        "        grads =  inner_optimization(model, batch, inner_iters, inner_lr, device)\n",
        "      else:\n",
        "        grads_n = inner_optimization(model, batch, inner_iters, inner_lr, device)\n",
        "\n",
        "        for i in range(len(grads)):\n",
        "          grads[i] += grads_n[i]\n",
        "\n",
        "\n",
        "    for i, params in enumerate(model.parameters()):\n",
        "      params.grad = grads[i]\n",
        "\n",
        "    outer_optimizer.step()\n",
        "    outer_optimizer.zero_grad()\n",
        "\n",
        "  torch.save(model.state_dict(), 'MAMLmodel.ckpt')\n"
      ],
      "metadata": {
        "id": "Evr5wG1dCFTx"
      },
      "execution_count": 35,
      "outputs": []
    },
    {
      "cell_type": "code",
      "source": [
        "outer_optimization(model, fewshot_train_dataloader, outer_iters=2, inner_iters=2)"
      ],
      "metadata": {
        "colab": {
          "base_uri": "https://localhost:8080/",
          "height": 104,
          "referenced_widgets": [
            "a05c23e4fdf54df4983f860b478598fd",
            "0a5a4740ee4d4d4e9fced93783b56d06",
            "1be48a09765a45bdbbe117f71d3debd0",
            "cf99523dd25246338a10922c54f035a6",
            "ffbdf9ec25e145838e55b6627fbba90d",
            "2a6d05a0a2a042b3a44798aaec824f20",
            "3a9b836641f74a91aa10c78537ad1bb6",
            "a4860157403b4ba599412613472dd330",
            "521b4f23f6d94583b7d4b89e01eacc3b",
            "c40e89cb6444480eb028de605ec1ca46",
            "1b2e2a7b49674f249b732f497af4e1e2"
          ]
        },
        "id": "RmByD5h0IgiZ",
        "outputId": "4047f5fa-95ba-4715-a4ef-f0f32f9a7014"
      },
      "execution_count": 36,
      "outputs": [
        {
          "output_type": "stream",
          "name": "stderr",
          "text": [
            "/usr/local/lib/python3.10/dist-packages/transformers/optimization.py:429: FutureWarning: This implementation of AdamW is deprecated and will be removed in a future version. Use the PyTorch implementation torch.optim.AdamW instead, or set `no_deprecation_warning=True` to disable this warning\n",
            "  warnings.warn(\n"
          ]
        },
        {
          "output_type": "display_data",
          "data": {
            "text/plain": [
              "  0%|          | 0/2 [00:00<?, ?it/s]"
            ],
            "application/vnd.jupyter.widget-view+json": {
              "version_major": 2,
              "version_minor": 0,
              "model_id": "a05c23e4fdf54df4983f860b478598fd"
            }
          },
          "metadata": {}
        }
      ]
    }
  ]
}