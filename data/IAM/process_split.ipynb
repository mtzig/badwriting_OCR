{
 "cells": [
  {
   "cell_type": "markdown",
   "metadata": {},
   "source": [
    "# Process the IAM orginal splits into the aachen split used by TrOCR"
   ]
  },
  {
   "cell_type": "code",
   "execution_count": 12,
   "metadata": {},
   "outputs": [],
   "source": [
    "import json"
   ]
  },
  {
   "cell_type": "code",
   "execution_count": 13,
   "metadata": {},
   "outputs": [],
   "source": [
    "def get_ids(file_path):\n",
    "    ids = set()\n",
    "    with open(file_path) as file:\n",
    "        for id in file:\n",
    "            ids.add(id.rstrip('\\n'))\n",
    "\n",
    "    return ids\n",
    "\n",
    "def get_meta(meta_filename):\n",
    "    with open(meta_filename, 'r') as json_file:\n",
    "        meta_data = json.load(json_file)\n",
    "\n",
    "    return meta_data"
   ]
  },
  {
   "cell_type": "code",
   "execution_count": 11,
   "metadata": {},
   "outputs": [],
   "source": [
    "train_ids = get_ids('./tr.lst')\n",
    "val_ids = get_ids('./va.lst')\n",
    "test_ids = get_ids('./te.lst')"
   ]
  },
  {
   "cell_type": "code",
   "execution_count": 19,
   "metadata": {},
   "outputs": [],
   "source": [
    "meta_train = get_meta('./meta_train_data.json')\n",
    "meta_val = get_meta('./meta_val_data.json')\n",
    "meta_test = get_meta('./meta_test_data.json')"
   ]
  },
  {
   "cell_type": "code",
   "execution_count": 26,
   "metadata": {},
   "outputs": [
    {
     "data": {
      "text/plain": [
       "dict_keys(['form_id', 'sentence_id', 'image_dir', 'sentence_number', 'segmentation_result', 'graylevel', 'num_components', 'bounding_box', 'transcription', 'writer_id'])"
      ]
     },
     "execution_count": 26,
     "metadata": {},
     "output_type": "execute_result"
    }
   ],
   "source": [
    "meta_train[0].keys()"
   ]
  },
  {
   "cell_type": "code",
   "execution_count": 28,
   "metadata": {},
   "outputs": [
    {
     "data": {
      "text/plain": [
       "'a01-000u-s00-00'"
      ]
     },
     "execution_count": 28,
     "metadata": {},
     "output_type": "execute_result"
    }
   ],
   "source": [
    "meta_train[0]['sentence_id']"
   ]
  },
  {
   "cell_type": "code",
   "execution_count": 39,
   "metadata": {},
   "outputs": [
    {
     "data": {
      "text/plain": [
       "3738"
      ]
     },
     "execution_count": 39,
     "metadata": {},
     "output_type": "execute_result"
    }
   ],
   "source": [
    "len(test_ids)"
   ]
  },
  {
   "cell_type": "code",
   "execution_count": 42,
   "metadata": {},
   "outputs": [],
   "source": [
    "a_tr = []\n",
    "a_va = []\n",
    "a_te = []\n",
    "\n",
    "def get_split(meta):\n",
    "    for data in meta:\n",
    "        print\n",
    "        id = data['sentence_id']\n",
    "        if id in train_ids:\n",
    "            a_tr.append(data)\n",
    "        elif id in val_ids:\n",
    "            a_va.append(data)\n",
    "        elif id in test_ids:\n",
    "            a_te.append(data)\n",
    "        else:\n",
    "            # print(id)\n",
    "            continue\n",
    "\n",
    "get_split(meta_train)\n",
    "get_split(meta_val)\n",
    "get_split(meta_test)"
   ]
  },
  {
   "cell_type": "code",
   "execution_count": 45,
   "metadata": {},
   "outputs": [],
   "source": [
    "def get_json(filename, data): \n",
    "\n",
    "    with open(filename, \"w\") as final:\n",
    "        json.dump(data, final, indent=2)"
   ]
  },
  {
   "cell_type": "code",
   "execution_count": 46,
   "metadata": {},
   "outputs": [],
   "source": [
    "get_json('aa_tr.json', a_tr)\n",
    "get_json('aa_va.json', a_va)\n",
    "get_json('aa_te.json', a_te)"
   ]
  }
 ],
 "metadata": {
  "kernelspec": {
   "display_name": "modeling",
   "language": "python",
   "name": "python3"
  },
  "language_info": {
   "codemirror_mode": {
    "name": "ipython",
    "version": 3
   },
   "file_extension": ".py",
   "mimetype": "text/x-python",
   "name": "python",
   "nbconvert_exporter": "python",
   "pygments_lexer": "ipython3",
   "version": "3.10.13"
  }
 },
 "nbformat": 4,
 "nbformat_minor": 2
}
